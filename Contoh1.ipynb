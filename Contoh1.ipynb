{
 "cells": [
  {
   "cell_type": "code",
   "execution_count": 12,
   "id": "200759cc-b504-4ab8-aa9d-e96897411a8c",
   "metadata": {},
   "outputs": [],
   "source": [
    "import pandas as pd\n",
    "\n",
    "# Membaca dataset\n",
    "df = pd.read_csv(\"dataset.csv\")"
   ]
  },
  {
   "cell_type": "code",
   "execution_count": 13,
   "id": "992a4761-b7b4-4374-8502-91963a0c4d55",
   "metadata": {},
   "outputs": [],
   "source": [
    "# 1. Menambahkan kolom Health_Risk_Score\n",
    "# Kolom ini berisi jumlah dari beberapa faktor risiko kesehatan seperti diabetes, hipertensi, obesitas, dll.\n",
    "risk_factors = [\"Diabetes\", \"Hypertension\", \"Obesity\", \"Smoking\", \"Alcohol_Consumption\", \"Family_History\", \"Stress_Level\"]\n",
    "df[\"Health_Risk_Score\"] = df[risk_factors].sum(axis=1)"
   ]
  },
  {
   "cell_type": "code",
   "execution_count": 14,
   "id": "7819d601-b2ad-4dbd-adad-e859ab6053bd",
   "metadata": {},
   "outputs": [],
   "source": [
    "# 2. Mengelompokkan usia ke dalam kategori\n",
    "# Young (<30 tahun), Middle-Aged (30-59 tahun), dan Senior (>=60 tahun)\n",
    "def categorize_age(age):\n",
    "    if age < 30:\n",
    "        return \"Young\"\n",
    "    elif 30 <= age < 60:\n",
    "        return \"Middle-Aged\"\n",
    "    else:\n",
    "        return \"Senior\"\n",
    "\n",
    "df[\"Age_Category\"] = df[\"Age\"].apply(categorize_age)"
   ]
  },
  {
   "cell_type": "code",
   "execution_count": 15,
   "id": "2855ae23-1df6-4a50-8775-35783f8907e8",
   "metadata": {},
   "outputs": [
    {
     "name": "stdout",
     "output_type": "stream",
     "text": [
      "Data Sebelum Manipulasi:\n",
      "   Patient_ID  Age  Diabetes  Hypertension  Obesity\n",
      "0           1   42         0             0        1\n",
      "1           2   26         0             0        0\n",
      "2           3   78         0             0        1\n",
      "3           4   58         1             0        1\n",
      "4           5   22         0             0        0\n"
     ]
    }
   ],
   "source": [
    "print(\"Data Sebelum Manipulasi:\")\n",
    "print(df[[\"Patient_ID\", \"Age\", \"Diabetes\", \"Hypertension\", \"Obesity\"]].head())\n"
   ]
  },
  {
   "cell_type": "code",
   "execution_count": 16,
   "id": "9e4e66c8-200e-4880-91ab-13a0c0a483dd",
   "metadata": {},
   "outputs": [
    {
     "name": "stdout",
     "output_type": "stream",
     "text": [
      "\n",
      "Data Setelah Manipulasi:\n",
      "   Patient_ID  Age Age_Category  Health_Risk_Score\n",
      "0           1   42  Middle-Aged                  6\n",
      "1           2   26        Young                  8\n",
      "2           3   78       Senior                 12\n",
      "3           4   58  Middle-Aged                  3\n",
      "4           5   22        Young                  9\n"
     ]
    }
   ],
   "source": [
    "print(\"\\nData Setelah Manipulasi:\")\n",
    "print(df[[\"Patient_ID\", \"Age\", \"Age_Category\", \"Health_Risk_Score\"]].head())"
   ]
  },
  {
   "cell_type": "code",
   "execution_count": null,
   "id": "a5309788-5eb2-4844-a6f4-accda932c024",
   "metadata": {},
   "outputs": [],
   "source": []
  }
 ],
 "metadata": {
  "kernelspec": {
   "display_name": "Python 3 (ipykernel)",
   "language": "python",
   "name": "python3"
  },
  "language_info": {
   "codemirror_mode": {
    "name": "ipython",
    "version": 3
   },
   "file_extension": ".py",
   "mimetype": "text/x-python",
   "name": "python",
   "nbconvert_exporter": "python",
   "pygments_lexer": "ipython3",
   "version": "3.12.7"
  }
 },
 "nbformat": 4,
 "nbformat_minor": 5
}

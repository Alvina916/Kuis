{
 "cells": [
  {
   "cell_type": "code",
   "execution_count": 1,
   "id": "b25e7e23-8d56-4bbc-919e-eb8f2bd83424",
   "metadata": {},
   "outputs": [],
   "source": [
    "import pandas as pd\n",
    "\n",
    "# Membaca dataset\n",
    "df = pd.read_csv(\"coffee_shop_revenue.csv\")"
   ]
  },
  {
   "cell_type": "code",
   "execution_count": 4,
   "id": "75e94362-3c81-42af-9567-e4017bbac101",
   "metadata": {},
   "outputs": [
    {
     "name": "stdout",
     "output_type": "stream",
     "text": [
      "Data:\n",
      "   Number_of_Customers_Per_Day  Average_Order_Value  Operating_Hours_Per_Day  \\\n",
      "0                          152                 6.74                       14   \n",
      "1                          485                 4.50                       12   \n",
      "2                          398                 9.09                        6   \n",
      "3                          320                 8.48                       17   \n",
      "4                          156                 7.44                       17   \n",
      "\n",
      "   Number_of_Employees  Marketing_Spend_Per_Day  Location_Foot_Traffic  \\\n",
      "0                    4                   106.62                     97   \n",
      "1                    8                    57.83                    744   \n",
      "2                    6                    91.76                    636   \n",
      "3                    4                   462.63                    770   \n",
      "4                    2                   412.52                    232   \n",
      "\n",
      "   Daily_Revenue  \n",
      "0        1547.81  \n",
      "1        2084.68  \n",
      "2        3118.39  \n",
      "3        2912.20  \n",
      "4        1663.42  \n"
     ]
    }
   ],
   "source": [
    "# Menampilkan data sebelum manipulasi\n",
    "print(\"Data:\")\n",
    "print(df.head())"
   ]
  },
  {
   "cell_type": "code",
   "execution_count": 8,
   "id": "636579df-6e1d-42da-ae5b-ee22c09b479a",
   "metadata": {},
   "outputs": [
    {
     "name": "stdout",
     "output_type": "stream",
     "text": [
      "Data Sebelum Manipulasi:\n",
      "   Number_of_Customers_Per_Day  Average_Order_Value  Daily_Revenue\n",
      "0                          152                 6.74        1547.81\n",
      "1                          485                 4.50        2084.68\n",
      "2                          398                 9.09        3118.39\n",
      "3                          320                 8.48        2912.20\n",
      "4                          156                 7.44        1663.42\n"
     ]
    }
   ],
   "source": [
    "# Menampilkan data sebelum manipulasi\n",
    "print(\"Data Sebelum Manipulasi:\")\n",
    "print(df[[\"Number_of_Customers_Per_Day\", \"Average_Order_Value\", \"Daily_Revenue\"]].head())"
   ]
  },
  {
   "cell_type": "code",
   "execution_count": 9,
   "id": "8b73d5bf-c200-49cc-a0cf-20993ed08f66",
   "metadata": {},
   "outputs": [],
   "source": [
    "# Menambahkan kolom Revenue_per_Customer\n",
    "df[\"Revenue_per_Customer\"] = df[\"Daily_Revenue\"] / df[\"Number_of_Customers_Per_Day\"]\n"
   ]
  },
  {
   "cell_type": "code",
   "execution_count": 10,
   "id": "254ed820-beac-4420-b9a9-f47d5b19cc81",
   "metadata": {},
   "outputs": [],
   "source": [
    "# Mengkategorikan jumlah pelanggan per hari\n",
    "conditions = [\n",
    "    (df[\"Number_of_Customers_Per_Day\"] < 200),\n",
    "    (df[\"Number_of_Customers_Per_Day\"] >= 200) & (df[\"Number_of_Customers_Per_Day\"] < 400),\n",
    "    (df[\"Number_of_Customers_Per_Day\"] >= 400)\n",
    "]\n",
    "categories = ['Low', 'Medium', 'High']\n",
    "df[\"Customer_Category\"] = pd.cut(df[\"Number_of_Customers_Per_Day\"], bins=[0, 199, 399, df[\"Number_of_Customers_Per_Day\"].max()], labels=categories)"
   ]
  },
  {
   "cell_type": "code",
   "execution_count": 11,
   "id": "2d2d272e-f097-43d7-8208-85475ce4e405",
   "metadata": {},
   "outputs": [
    {
     "name": "stdout",
     "output_type": "stream",
     "text": [
      "\n",
      "Data Setelah Manipulasi:\n",
      "   Number_of_Customers_Per_Day Customer_Category  Revenue_per_Customer\n",
      "0                          152               Low             10.182961\n",
      "1                          485              High              4.298309\n",
      "2                          398            Medium              7.835151\n",
      "3                          320            Medium              9.100625\n",
      "4                          156               Low             10.662949\n"
     ]
    }
   ],
   "source": [
    "# Menampilkan data setelah manipulasi\n",
    "print(\"\\nData Setelah Manipulasi:\")\n",
    "print(df[[\"Number_of_Customers_Per_Day\", \"Customer_Category\", \"Revenue_per_Customer\"]].head())"
   ]
  },
  {
   "cell_type": "code",
   "execution_count": null,
   "id": "d365726f-fa5b-48e0-b30e-47cc53248897",
   "metadata": {},
   "outputs": [],
   "source": []
  }
 ],
 "metadata": {
  "kernelspec": {
   "display_name": "Python 3 (ipykernel)",
   "language": "python",
   "name": "python3"
  },
  "language_info": {
   "codemirror_mode": {
    "name": "ipython",
    "version": 3
   },
   "file_extension": ".py",
   "mimetype": "text/x-python",
   "name": "python",
   "nbconvert_exporter": "python",
   "pygments_lexer": "ipython3",
   "version": "3.12.7"
  }
 },
 "nbformat": 4,
 "nbformat_minor": 5
}
